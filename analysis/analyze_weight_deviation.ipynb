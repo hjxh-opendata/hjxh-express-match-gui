{
 "cells": [
  {
   "cell_type": "code",
   "execution_count": 35,
   "metadata": {},
   "outputs": [
    {
     "name": "stdout",
     "output_type": "stream",
     "text": [
      "hello\n"
     ]
    }
   ],
   "source": [
    "import pandas as pd\n",
    "import pymongo\n",
    "import numpy as np\n",
    "print(\"hello\")"
   ]
  },
  {
   "cell_type": "code",
   "execution_count": 2,
   "metadata": {
    "pycharm": {
     "name": "#%%\n"
    }
   },
   "outputs": [],
   "source": [
    "uri = pymongo.MongoClient()\n",
    "db = uri[\"hjxh_express_match\"]\n",
    "coll = db[\"detail\"]"
   ]
  },
  {
   "cell_type": "code",
   "execution_count": 39,
   "metadata": {
    "pycharm": {
     "name": "#%%\n"
    }
   },
   "outputs": [
    {
     "name": "stdout",
     "output_type": "stream",
     "text": [
      "(2025240, 5)\n"
     ]
    },
    {
     "data": {
      "text/html": [
       "<div>\n",
       "<style scoped>\n",
       "    .dataframe tbody tr th:only-of-type {\n",
       "        vertical-align: middle;\n",
       "    }\n",
       "\n",
       "    .dataframe tbody tr th {\n",
       "        vertical-align: top;\n",
       "    }\n",
       "\n",
       "    .dataframe thead th {\n",
       "        text-align: right;\n",
       "    }\n",
       "</style>\n",
       "<table border=\"1\" class=\"dataframe\">\n",
       "  <thead>\n",
       "    <tr style=\"text-align: right;\">\n",
       "      <th></th>\n",
       "      <th>_id</th>\n",
       "      <th>file_name_erp</th>\n",
       "      <th>file_name_trd</th>\n",
       "      <th>weight_erp</th>\n",
       "      <th>weight_trd</th>\n",
       "    </tr>\n",
       "  </thead>\n",
       "  <tbody>\n",
       "    <tr>\n",
       "      <th>0</th>\n",
       "      <td>YT6051821481165</td>\n",
       "      <td>erp_20211217_销售出库单_李佳欣_1.csv</td>\n",
       "      <td>trd_2021-11_圆通.xlsx</td>\n",
       "      <td>3.62</td>\n",
       "      <td>3.71</td>\n",
       "    </tr>\n",
       "    <tr>\n",
       "      <th>1</th>\n",
       "      <td>YT6056690304522</td>\n",
       "      <td>erp_11月旺店通数据.csv</td>\n",
       "      <td>trd_2021-11_圆通.xlsx</td>\n",
       "      <td>4.00</td>\n",
       "      <td>3.72</td>\n",
       "    </tr>\n",
       "    <tr>\n",
       "      <th>2</th>\n",
       "      <td>YT6056690316413</td>\n",
       "      <td>erp_11月旺店通数据.csv</td>\n",
       "      <td>trd_2021-11_圆通.xlsx</td>\n",
       "      <td>4.06</td>\n",
       "      <td>3.72</td>\n",
       "    </tr>\n",
       "    <tr>\n",
       "      <th>3</th>\n",
       "      <td>YT6056690316515</td>\n",
       "      <td>erp_11月旺店通数据.csv</td>\n",
       "      <td>trd_2021-11_圆通.xlsx</td>\n",
       "      <td>4.06</td>\n",
       "      <td>3.72</td>\n",
       "    </tr>\n",
       "    <tr>\n",
       "      <th>4</th>\n",
       "      <td>YT6056690316631</td>\n",
       "      <td>erp_11月旺店通数据.csv</td>\n",
       "      <td>trd_2021-11_圆通.xlsx</td>\n",
       "      <td>4.06</td>\n",
       "      <td>3.72</td>\n",
       "    </tr>\n",
       "    <tr>\n",
       "      <th>...</th>\n",
       "      <td>...</td>\n",
       "      <td>...</td>\n",
       "      <td>...</td>\n",
       "      <td>...</td>\n",
       "      <td>...</td>\n",
       "    </tr>\n",
       "    <tr>\n",
       "      <th>2025235</th>\n",
       "      <td>462075688836441</td>\n",
       "      <td>erp_11月旺店通数据1.csv</td>\n",
       "      <td>trd_2021-11_漯河韵达.xlsx</td>\n",
       "      <td>2.42</td>\n",
       "      <td>2.50</td>\n",
       "    </tr>\n",
       "    <tr>\n",
       "      <th>2025236</th>\n",
       "      <td>462075505302287</td>\n",
       "      <td>erp_11月旺店通数据1.csv</td>\n",
       "      <td>trd_2021-11_漯河韵达.xlsx</td>\n",
       "      <td>2.42</td>\n",
       "      <td>2.53</td>\n",
       "    </tr>\n",
       "    <tr>\n",
       "      <th>2025237</th>\n",
       "      <td>3180376115892</td>\n",
       "      <td>erp_11月旺店通数据1.csv</td>\n",
       "      <td>trd_2021-11_漯河韵达.xlsx</td>\n",
       "      <td>1.92</td>\n",
       "      <td>1.92</td>\n",
       "    </tr>\n",
       "    <tr>\n",
       "      <th>2025238</th>\n",
       "      <td>3180377527119</td>\n",
       "      <td>erp_11月旺店通数据1.csv</td>\n",
       "      <td>trd_2021-11_漯河韵达.xlsx</td>\n",
       "      <td>2.92</td>\n",
       "      <td>2.93</td>\n",
       "    </tr>\n",
       "    <tr>\n",
       "      <th>2025239</th>\n",
       "      <td>3180377527114</td>\n",
       "      <td>erp_11月旺店通数据1.csv</td>\n",
       "      <td>trd_2021-11_漯河韵达.xlsx</td>\n",
       "      <td>2.92</td>\n",
       "      <td>2.92</td>\n",
       "    </tr>\n",
       "  </tbody>\n",
       "</table>\n",
       "<p>2025240 rows × 5 columns</p>\n",
       "</div>"
      ],
      "text/plain": [
       "                     _id                 file_name_erp          file_name_trd  \\\n",
       "0        YT6051821481165  erp_20211217_销售出库单_李佳欣_1.csv    trd_2021-11_圆通.xlsx   \n",
       "1        YT6056690304522              erp_11月旺店通数据.csv    trd_2021-11_圆通.xlsx   \n",
       "2        YT6056690316413              erp_11月旺店通数据.csv    trd_2021-11_圆通.xlsx   \n",
       "3        YT6056690316515              erp_11月旺店通数据.csv    trd_2021-11_圆通.xlsx   \n",
       "4        YT6056690316631              erp_11月旺店通数据.csv    trd_2021-11_圆通.xlsx   \n",
       "...                  ...                           ...                    ...   \n",
       "2025235  462075688836441             erp_11月旺店通数据1.csv  trd_2021-11_漯河韵达.xlsx   \n",
       "2025236  462075505302287             erp_11月旺店通数据1.csv  trd_2021-11_漯河韵达.xlsx   \n",
       "2025237    3180376115892             erp_11月旺店通数据1.csv  trd_2021-11_漯河韵达.xlsx   \n",
       "2025238    3180377527119             erp_11月旺店通数据1.csv  trd_2021-11_漯河韵达.xlsx   \n",
       "2025239    3180377527114             erp_11月旺店通数据1.csv  trd_2021-11_漯河韵达.xlsx   \n",
       "\n",
       "         weight_erp  weight_trd  \n",
       "0              3.62        3.71  \n",
       "1              4.00        3.72  \n",
       "2              4.06        3.72  \n",
       "3              4.06        3.72  \n",
       "4              4.06        3.72  \n",
       "...             ...         ...  \n",
       "2025235        2.42        2.50  \n",
       "2025236        2.42        2.53  \n",
       "2025237        1.92        1.92  \n",
       "2025238        2.92        2.93  \n",
       "2025239        2.92        2.92  \n",
       "\n",
       "[2025240 rows x 5 columns]"
      ]
     },
     "execution_count": 39,
     "metadata": {},
     "output_type": "execute_result"
    }
   ],
   "source": [
    "N = 0\n",
    "\n",
    "df = pd.DataFrame(\n",
    "    list(coll.find(\n",
    "        {\n",
    "            \"weight_erp\": {\"$exists\": True},\n",
    "            \"weight_trd\": {\"$exists\": True},\n",
    "        },\n",
    "        {\n",
    "            \"weight_erp\": 1,\n",
    "            \"weight_trd\": 1,\n",
    "            \"file_name_erp\": 1,\n",
    "            \"file_name_trd\": 1,\n",
    "        },\n",
    "        limit=N))\n",
    ")\n",
    "print(df.shape)\n",
    "\n",
    "df.sort_index(axis=1, inplace=True)\n",
    "df"
   ]
  },
  {
   "cell_type": "code",
   "execution_count": 52,
   "metadata": {},
   "outputs": [
    {
     "data": {
      "text/html": [
       "<div>\n",
       "<style scoped>\n",
       "    .dataframe tbody tr th:only-of-type {\n",
       "        vertical-align: middle;\n",
       "    }\n",
       "\n",
       "    .dataframe tbody tr th {\n",
       "        vertical-align: top;\n",
       "    }\n",
       "\n",
       "    .dataframe thead th {\n",
       "        text-align: right;\n",
       "    }\n",
       "</style>\n",
       "<table border=\"1\" class=\"dataframe\">\n",
       "  <thead>\n",
       "    <tr style=\"text-align: right;\">\n",
       "      <th></th>\n",
       "      <th>_id</th>\n",
       "      <th>file_name_erp</th>\n",
       "      <th>file_name_trd</th>\n",
       "      <th>weight_erp</th>\n",
       "      <th>weight_trd</th>\n",
       "      <th>z_less_fail</th>\n",
       "      <th>z_diff_fail</th>\n",
       "      <th>z_ceil_fail</th>\n",
       "      <th>z_small_fail</th>\n",
       "    </tr>\n",
       "  </thead>\n",
       "  <tbody>\n",
       "    <tr>\n",
       "      <th>1492095</th>\n",
       "      <td>YT6086360113599</td>\n",
       "      <td>erp_20211214_销售出库单_李佳欣_2.csv</td>\n",
       "      <td>trd_2021-11-沈阳圆通.xlsx</td>\n",
       "      <td>0.920</td>\n",
       "      <td>49.10</td>\n",
       "      <td>True</td>\n",
       "      <td>True</td>\n",
       "      <td>True</td>\n",
       "      <td>True</td>\n",
       "    </tr>\n",
       "    <tr>\n",
       "      <th>1503605</th>\n",
       "      <td>YT6085627215864</td>\n",
       "      <td>erp_20211214_销售出库单_李佳欣_2.csv</td>\n",
       "      <td>trd_2021-11-沈阳圆通.xlsx</td>\n",
       "      <td>1.200</td>\n",
       "      <td>48.05</td>\n",
       "      <td>True</td>\n",
       "      <td>True</td>\n",
       "      <td>True</td>\n",
       "      <td>True</td>\n",
       "    </tr>\n",
       "    <tr>\n",
       "      <th>1503481</th>\n",
       "      <td>YT6085625021111</td>\n",
       "      <td>erp_20211214_销售出库单_李佳欣_2.csv</td>\n",
       "      <td>trd_2021-11-沈阳圆通.xlsx</td>\n",
       "      <td>2.061</td>\n",
       "      <td>46.70</td>\n",
       "      <td>True</td>\n",
       "      <td>True</td>\n",
       "      <td>True</td>\n",
       "      <td>True</td>\n",
       "    </tr>\n",
       "    <tr>\n",
       "      <th>1503570</th>\n",
       "      <td>YT6085625010086</td>\n",
       "      <td>erp_20211214_销售出库单_李佳欣_2.csv</td>\n",
       "      <td>trd_2021-11-沈阳圆通.xlsx</td>\n",
       "      <td>1.200</td>\n",
       "      <td>46.20</td>\n",
       "      <td>True</td>\n",
       "      <td>True</td>\n",
       "      <td>True</td>\n",
       "      <td>True</td>\n",
       "    </tr>\n",
       "    <tr>\n",
       "      <th>1492251</th>\n",
       "      <td>YT6086466113569</td>\n",
       "      <td>erp_20211214_销售出库单_李佳欣_2.csv</td>\n",
       "      <td>trd_2021-11-沈阳圆通.xlsx</td>\n",
       "      <td>3.620</td>\n",
       "      <td>46.10</td>\n",
       "      <td>True</td>\n",
       "      <td>True</td>\n",
       "      <td>True</td>\n",
       "      <td>True</td>\n",
       "    </tr>\n",
       "    <tr>\n",
       "      <th>...</th>\n",
       "      <td>...</td>\n",
       "      <td>...</td>\n",
       "      <td>...</td>\n",
       "      <td>...</td>\n",
       "      <td>...</td>\n",
       "      <td>...</td>\n",
       "      <td>...</td>\n",
       "      <td>...</td>\n",
       "      <td>...</td>\n",
       "    </tr>\n",
       "    <tr>\n",
       "      <th>985205</th>\n",
       "      <td>432182673735052</td>\n",
       "      <td>erp_20211214_销售出库单_李佳欣_2.csv</td>\n",
       "      <td>trd_2021-11_常州韵达_无价格表.xlsx</td>\n",
       "      <td>0.520</td>\n",
       "      <td>3.01</td>\n",
       "      <td>True</td>\n",
       "      <td>True</td>\n",
       "      <td>True</td>\n",
       "      <td>True</td>\n",
       "    </tr>\n",
       "    <tr>\n",
       "      <th>985207</th>\n",
       "      <td>432181641413750</td>\n",
       "      <td>erp_20211214_销售出库单_李佳欣_2.csv</td>\n",
       "      <td>trd_2021-11_常州韵达_无价格表.xlsx</td>\n",
       "      <td>0.870</td>\n",
       "      <td>3.01</td>\n",
       "      <td>True</td>\n",
       "      <td>True</td>\n",
       "      <td>True</td>\n",
       "      <td>True</td>\n",
       "    </tr>\n",
       "    <tr>\n",
       "      <th>1999744</th>\n",
       "      <td>YT6049832537844</td>\n",
       "      <td>erp_10.29-11.1.csv</td>\n",
       "      <td>trd_2021-11-沈阳圆通.xlsx</td>\n",
       "      <td>2.020</td>\n",
       "      <td>3.01</td>\n",
       "      <td>True</td>\n",
       "      <td>True</td>\n",
       "      <td>True</td>\n",
       "      <td>True</td>\n",
       "    </tr>\n",
       "    <tr>\n",
       "      <th>27209</th>\n",
       "      <td>3180371664851</td>\n",
       "      <td>erp_11月旺店通数据.csv</td>\n",
       "      <td>trd_2021-11_常州韵达_无价格表.xlsx</td>\n",
       "      <td>2.420</td>\n",
       "      <td>3.01</td>\n",
       "      <td>True</td>\n",
       "      <td>True</td>\n",
       "      <td>True</td>\n",
       "      <td>True</td>\n",
       "    </tr>\n",
       "    <tr>\n",
       "      <th>985169</th>\n",
       "      <td>432196630653276</td>\n",
       "      <td>erp_20211214_销售出库单_李佳欣_4.csv</td>\n",
       "      <td>trd_2021-11_常州韵达_无价格表.xlsx</td>\n",
       "      <td>2.420</td>\n",
       "      <td>3.01</td>\n",
       "      <td>True</td>\n",
       "      <td>True</td>\n",
       "      <td>True</td>\n",
       "      <td>True</td>\n",
       "    </tr>\n",
       "  </tbody>\n",
       "</table>\n",
       "<p>13698 rows × 9 columns</p>\n",
       "</div>"
      ],
      "text/plain": [
       "                     _id                 file_name_erp  \\\n",
       "1492095  YT6086360113599  erp_20211214_销售出库单_李佳欣_2.csv   \n",
       "1503605  YT6085627215864  erp_20211214_销售出库单_李佳欣_2.csv   \n",
       "1503481  YT6085625021111  erp_20211214_销售出库单_李佳欣_2.csv   \n",
       "1503570  YT6085625010086  erp_20211214_销售出库单_李佳欣_2.csv   \n",
       "1492251  YT6086466113569  erp_20211214_销售出库单_李佳欣_2.csv   \n",
       "...                  ...                           ...   \n",
       "985205   432182673735052  erp_20211214_销售出库单_李佳欣_2.csv   \n",
       "985207   432181641413750  erp_20211214_销售出库单_李佳欣_2.csv   \n",
       "1999744  YT6049832537844            erp_10.29-11.1.csv   \n",
       "27209      3180371664851              erp_11月旺店通数据.csv   \n",
       "985169   432196630653276  erp_20211214_销售出库单_李佳欣_4.csv   \n",
       "\n",
       "                      file_name_trd  weight_erp  weight_trd  z_less_fail  \\\n",
       "1492095       trd_2021-11-沈阳圆通.xlsx       0.920       49.10         True   \n",
       "1503605       trd_2021-11-沈阳圆通.xlsx       1.200       48.05         True   \n",
       "1503481       trd_2021-11-沈阳圆通.xlsx       2.061       46.70         True   \n",
       "1503570       trd_2021-11-沈阳圆通.xlsx       1.200       46.20         True   \n",
       "1492251       trd_2021-11-沈阳圆通.xlsx       3.620       46.10         True   \n",
       "...                             ...         ...         ...          ...   \n",
       "985205   trd_2021-11_常州韵达_无价格表.xlsx       0.520        3.01         True   \n",
       "985207   trd_2021-11_常州韵达_无价格表.xlsx       0.870        3.01         True   \n",
       "1999744       trd_2021-11-沈阳圆通.xlsx       2.020        3.01         True   \n",
       "27209    trd_2021-11_常州韵达_无价格表.xlsx       2.420        3.01         True   \n",
       "985169   trd_2021-11_常州韵达_无价格表.xlsx       2.420        3.01         True   \n",
       "\n",
       "         z_diff_fail  z_ceil_fail  z_small_fail  \n",
       "1492095         True         True          True  \n",
       "1503605         True         True          True  \n",
       "1503481         True         True          True  \n",
       "1503570         True         True          True  \n",
       "1492251         True         True          True  \n",
       "...              ...          ...           ...  \n",
       "985205          True         True          True  \n",
       "985207          True         True          True  \n",
       "1999744         True         True          True  \n",
       "27209           True         True          True  \n",
       "985169          True         True          True  \n",
       "\n",
       "[13698 rows x 9 columns]"
      ]
     },
     "execution_count": 52,
     "metadata": {},
     "output_type": "execute_result"
    }
   ],
   "source": [
    "CONST_DIFF = 0.1\n",
    "CONST_SMALL = 3  # 非常关键的变量！1-3将指数级影响最终的结果，因为货品的重量分布几乎呈指数分布\n",
    "\n",
    "### 1. 不考虑trd价格比erp低的，因为这可以减少成本\n",
    "df[\"z_less_fail\"] = df.weight_erp < df.weight_trd\n",
    "\n",
    "### 2. 不考虑彼此误差较小的，因为误差难免存在；另外 trd 越小越好，所以应该作分母\n",
    "df[\"z_diff_fail\"] = abs(df.weight_erp / df.weight_trd - 1) > CONST_DIFF\n",
    "\n",
    "### 3. 不考虑向上取整相等的，因为大多数情况下不影响最终价格计算\n",
    "df[\"z_ceil_fail\"] = np.ceil(df.weight_erp) != np.ceil(df.weight_trd)\n",
    "\n",
    "### 4. 不考虑绝对价格过小的，边际效益较低\n",
    "df[\"z_small_fail\"] = df.weight_trd > CONST_SMALL\n",
    "\n",
    "df.query(\"z_less_fail and z_diff_fail and z_ceil_fail and z_small_fail\").sort_values(by=\"weight_trd\", ascending=False)"
   ]
  },
  {
   "cell_type": "code",
   "execution_count": 10,
   "metadata": {
    "pycharm": {
     "name": "#%%\n"
    }
   },
   "outputs": [
    {
     "data": {
      "text/plain": [
       "False"
      ]
     },
     "execution_count": 10,
     "metadata": {},
     "output_type": "execute_result"
    }
   ],
   "source": [
    "data.weight_qualified.all()"
   ]
  },
  {
   "cell_type": "code",
   "execution_count": 11,
   "metadata": {
    "pycharm": {
     "name": "#%%\n"
    }
   },
   "outputs": [
    {
     "data": {
      "text/plain": [
       "<AxesSubplot:>"
      ]
     },
     "execution_count": 11,
     "metadata": {},
     "output_type": "execute_result"
    },
    {
     "data": {
      "image/png": "[encoded data removed]",
      "text/plain": [
       "<Figure size 432x288 with 1 Axes>"
      ]
     },
     "metadata": {
      "needs_background": "light"
     },
     "output_type": "display_data"
    }
   ],
   "source": [
    "data.weight_diff_pct.hist(bins=50, )"
   ]
  },
  {
   "cell_type": "code",
   "execution_count": 8,
   "metadata": {
    "pycharm": {
     "name": "#%%\n"
    }
   },
   "outputs": [],
   "source": []
  }
 ],
 "metadata": {
  "kernelspec": {
   "display_name": "PyCharm (hjxh_express_match)",
   "language": "python",
   "name": "pycharm-95cc1011"
  },
  "language_info": {
   "codemirror_mode": {
    "name": "ipython",
    "version": 3
   },
   "file_extension": ".py",
   "mimetype": "text/x-python",
   "name": "python",
   "nbconvert_exporter": "python",
   "pygments_lexer": "ipython3",
   "version": "3.8.9"
  }
 },
 "nbformat": 4,
 "nbformat_minor": 1
}