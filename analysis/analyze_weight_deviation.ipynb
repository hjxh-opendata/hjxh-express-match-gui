{
 "cells": [
  {
   "cell_type": "code",
   "execution_count": 17,
   "metadata": {
    "collapsed": true
   },
   "outputs": [
    {
     "name": "stdout",
     "output_type": "stream",
     "text": [
      "hello\n"
     ]
    }
   ],
   "source": [
    "import pandas as pd\n",
    "import pymongo\n",
    "\n",
    "a = 1\n",
    "print(\"hello\")"
   ]
  },
  {
   "cell_type": "code",
   "execution_count": 18,
   "outputs": [],
   "source": [
    "uri = pymongo.MongoClient()\n",
    "db = uri[\"hjxh_express_match\"]\n",
    "coll = db[\"detail\"]"
   ],
   "metadata": {
    "collapsed": false,
    "pycharm": {
     "name": "#%%\n"
    }
   }
  },
  {
   "cell_type": "code",
   "execution_count": 19,
   "outputs": [
    {
     "name": "stdout",
     "output_type": "stream",
     "text": [
      "(100, 5)\n"
     ]
    }
   ],
   "source": [
    "data = pd.DataFrame(\n",
    "    list(coll.find(\n",
    "        {\n",
    "            \"weight_erp\": {\"$exists\": True},\n",
    "            \"weight_trd\": {\"$exists\": True},\n",
    "        },\n",
    "        {\n",
    "            \"weight_erp\": 1,\n",
    "            \"weight_trd\": 1,\n",
    "            \"file_name_erp\": 1,\n",
    "            \"file_name_trd\": 1,\n",
    "        },\n",
    "        limit=100))\n",
    ")\n",
    "print(data.shape)"
   ],
   "metadata": {
    "collapsed": false,
    "pycharm": {
     "name": "#%%\n"
    }
   }
  },
  {
   "cell_type": "code",
   "execution_count": 20,
   "outputs": [],
   "source": [
    "\n",
    "data[\"weight_diff_pct\"] = data.weight_trd / data.weight_erp - 1"
   ],
   "metadata": {
    "collapsed": false,
    "pycharm": {
     "name": "#%%\n"
    }
   }
  },
  {
   "cell_type": "code",
   "execution_count": 21,
   "outputs": [],
   "source": [
    "data[\"weight_qualified\"] = data.weight_diff_pct < 0.1"
   ],
   "metadata": {
    "collapsed": false,
    "pycharm": {
     "name": "#%%\n"
    }
   }
  },
  {
   "cell_type": "code",
   "execution_count": 22,
   "outputs": [
    {
     "data": {
      "text/plain": "                _id        file_name_trd  weight_trd  \\\n0   YT6051821481165  trd_2021-11_圆通.xlsx        3.71   \n1   YT6056690304522  trd_2021-11_圆通.xlsx        3.72   \n2   YT6056690316413  trd_2021-11_圆通.xlsx        3.72   \n3   YT6056690316515  trd_2021-11_圆通.xlsx        3.72   \n4   YT6056690316631  trd_2021-11_圆通.xlsx        3.72   \n..              ...                  ...         ...   \n95  YT6056696846888  trd_2021-11_圆通.xlsx        3.72   \n96  YT6056696846941  trd_2021-11_圆通.xlsx        3.72   \n97  YT6056696857077  trd_2021-11_圆通.xlsx        3.72   \n98  YT6056696884257  trd_2021-11_圆通.xlsx        3.72   \n99  YT6056696884349  trd_2021-11_圆通.xlsx        3.72   \n\n                   file_name_erp  weight_erp  weight_diff_pct  \\\n0   erp_20211217_销售出库单_李佳欣_1.csv        3.62         0.024862   \n1               erp_11月旺店通数据.csv        4.00        -0.070000   \n2               erp_11月旺店通数据.csv        4.06        -0.083744   \n3               erp_11月旺店通数据.csv        4.06        -0.083744   \n4               erp_11月旺店通数据.csv        4.06        -0.083744   \n..                           ...         ...              ...   \n95              erp_11月旺店通数据.csv        4.06        -0.083744   \n96              erp_11月旺店通数据.csv        4.06        -0.083744   \n97              erp_11月旺店通数据.csv        4.02        -0.074627   \n98              erp_11月旺店通数据.csv        4.06        -0.083744   \n99              erp_11月旺店通数据.csv        4.06        -0.083744   \n\n    weight_qualified  \n0               True  \n1               True  \n2               True  \n3               True  \n4               True  \n..               ...  \n95              True  \n96              True  \n97              True  \n98              True  \n99              True  \n\n[100 rows x 7 columns]",
      "text/html": "<div>\n<style scoped>\n    .dataframe tbody tr th:only-of-type {\n        vertical-align: middle;\n    }\n\n    .dataframe tbody tr th {\n        vertical-align: top;\n    }\n\n    .dataframe thead th {\n        text-align: right;\n    }\n</style>\n<table border=\"1\" class=\"dataframe\">\n  <thead>\n    <tr style=\"text-align: right;\">\n      <th></th>\n      <th>_id</th>\n      <th>file_name_trd</th>\n      <th>weight_trd</th>\n      <th>file_name_erp</th>\n      <th>weight_erp</th>\n      <th>weight_diff_pct</th>\n      <th>weight_qualified</th>\n    </tr>\n  </thead>\n  <tbody>\n    <tr>\n      <th>0</th>\n      <td>YT6051821481165</td>\n      <td>trd_2021-11_圆通.xlsx</td>\n      <td>3.71</td>\n      <td>erp_20211217_销售出库单_李佳欣_1.csv</td>\n      <td>3.62</td>\n      <td>0.024862</td>\n      <td>True</td>\n    </tr>\n    <tr>\n      <th>1</th>\n      <td>YT6056690304522</td>\n      <td>trd_2021-11_圆通.xlsx</td>\n      <td>3.72</td>\n      <td>erp_11月旺店通数据.csv</td>\n      <td>4.00</td>\n      <td>-0.070000</td>\n      <td>True</td>\n    </tr>\n    <tr>\n      <th>2</th>\n      <td>YT6056690316413</td>\n      <td>trd_2021-11_圆通.xlsx</td>\n      <td>3.72</td>\n      <td>erp_11月旺店通数据.csv</td>\n      <td>4.06</td>\n      <td>-0.083744</td>\n      <td>True</td>\n    </tr>\n    <tr>\n      <th>3</th>\n      <td>YT6056690316515</td>\n      <td>trd_2021-11_圆通.xlsx</td>\n      <td>3.72</td>\n      <td>erp_11月旺店通数据.csv</td>\n      <td>4.06</td>\n      <td>-0.083744</td>\n      <td>True</td>\n    </tr>\n    <tr>\n      <th>4</th>\n      <td>YT6056690316631</td>\n      <td>trd_2021-11_圆通.xlsx</td>\n      <td>3.72</td>\n      <td>erp_11月旺店通数据.csv</td>\n      <td>4.06</td>\n      <td>-0.083744</td>\n      <td>True</td>\n    </tr>\n    <tr>\n      <th>...</th>\n      <td>...</td>\n      <td>...</td>\n      <td>...</td>\n      <td>...</td>\n      <td>...</td>\n      <td>...</td>\n      <td>...</td>\n    </tr>\n    <tr>\n      <th>95</th>\n      <td>YT6056696846888</td>\n      <td>trd_2021-11_圆通.xlsx</td>\n      <td>3.72</td>\n      <td>erp_11月旺店通数据.csv</td>\n      <td>4.06</td>\n      <td>-0.083744</td>\n      <td>True</td>\n    </tr>\n    <tr>\n      <th>96</th>\n      <td>YT6056696846941</td>\n      <td>trd_2021-11_圆通.xlsx</td>\n      <td>3.72</td>\n      <td>erp_11月旺店通数据.csv</td>\n      <td>4.06</td>\n      <td>-0.083744</td>\n      <td>True</td>\n    </tr>\n    <tr>\n      <th>97</th>\n      <td>YT6056696857077</td>\n      <td>trd_2021-11_圆通.xlsx</td>\n      <td>3.72</td>\n      <td>erp_11月旺店通数据.csv</td>\n      <td>4.02</td>\n      <td>-0.074627</td>\n      <td>True</td>\n    </tr>\n    <tr>\n      <th>98</th>\n      <td>YT6056696884257</td>\n      <td>trd_2021-11_圆通.xlsx</td>\n      <td>3.72</td>\n      <td>erp_11月旺店通数据.csv</td>\n      <td>4.06</td>\n      <td>-0.083744</td>\n      <td>True</td>\n    </tr>\n    <tr>\n      <th>99</th>\n      <td>YT6056696884349</td>\n      <td>trd_2021-11_圆通.xlsx</td>\n      <td>3.72</td>\n      <td>erp_11月旺店通数据.csv</td>\n      <td>4.06</td>\n      <td>-0.083744</td>\n      <td>True</td>\n    </tr>\n  </tbody>\n</table>\n<p>100 rows × 7 columns</p>\n</div>"
     },
     "execution_count": 22,
     "metadata": {},
     "output_type": "execute_result"
    }
   ],
   "source": [
    "data"
   ],
   "metadata": {
    "collapsed": false,
    "pycharm": {
     "name": "#%%\n"
    }
   }
  },
  {
   "cell_type": "code",
   "execution_count": 23,
   "outputs": [
    {
     "data": {
      "text/plain": "True"
     },
     "execution_count": 23,
     "metadata": {},
     "output_type": "execute_result"
    }
   ],
   "source": [
    "data.weight_qualified.all()"
   ],
   "metadata": {
    "collapsed": false,
    "pycharm": {
     "name": "#%%\n"
    }
   }
  },
  {
   "cell_type": "code",
   "execution_count": 28,
   "outputs": [
    {
     "ename": "AttributeError",
     "evalue": "'Rectangle' object has no property 'column'",
     "output_type": "error",
     "traceback": [
      "\u001B[0;31m---------------------------------------------------------------------------\u001B[0m",
      "\u001B[0;31mAttributeError\u001B[0m                            Traceback (most recent call last)",
      "\u001B[0;32m/var/folders/_q/dpkkgdkj59l59lzqzq6c_7gh0000gn/T/ipykernel_10964/1505058140.py\u001B[0m in \u001B[0;36m<module>\u001B[0;34m\u001B[0m\n\u001B[0;32m----> 1\u001B[0;31m \u001B[0mdata\u001B[0m\u001B[0;34m.\u001B[0m\u001B[0mweight_diff_pct\u001B[0m\u001B[0;34m.\u001B[0m\u001B[0mhist\u001B[0m\u001B[0;34m(\u001B[0m\u001B[0mcolumn\u001B[0m\u001B[0;34m=\u001B[0m\u001B[0;36m50\u001B[0m\u001B[0;34m)\u001B[0m\u001B[0;34m\u001B[0m\u001B[0;34m\u001B[0m\u001B[0m\n\u001B[0m\u001B[1;32m      2\u001B[0m \u001B[0;34m\u001B[0m\u001B[0m\n",
      "\u001B[0;32m~/Documents/mark_projects/皇家小虎/HJXH/hjxh_express_match/venv_py/lib/python3.8/site-packages/pandas/plotting/_core.py\u001B[0m in \u001B[0;36mhist_series\u001B[0;34m(self, by, ax, grid, xlabelsize, xrot, ylabelsize, yrot, figsize, bins, backend, legend, **kwargs)\u001B[0m\n\u001B[1;32m     98\u001B[0m     \"\"\"\n\u001B[1;32m     99\u001B[0m     \u001B[0mplot_backend\u001B[0m \u001B[0;34m=\u001B[0m \u001B[0m_get_plot_backend\u001B[0m\u001B[0;34m(\u001B[0m\u001B[0mbackend\u001B[0m\u001B[0;34m)\u001B[0m\u001B[0;34m\u001B[0m\u001B[0;34m\u001B[0m\u001B[0m\n\u001B[0;32m--> 100\u001B[0;31m     return plot_backend.hist_series(\n\u001B[0m\u001B[1;32m    101\u001B[0m         \u001B[0mself\u001B[0m\u001B[0;34m,\u001B[0m\u001B[0;34m\u001B[0m\u001B[0;34m\u001B[0m\u001B[0m\n\u001B[1;32m    102\u001B[0m         \u001B[0mby\u001B[0m\u001B[0;34m=\u001B[0m\u001B[0mby\u001B[0m\u001B[0;34m,\u001B[0m\u001B[0;34m\u001B[0m\u001B[0;34m\u001B[0m\u001B[0m\n",
      "\u001B[0;32m~/Documents/mark_projects/皇家小虎/HJXH/hjxh_express_match/venv_py/lib/python3.8/site-packages/pandas/plotting/_matplotlib/hist.py\u001B[0m in \u001B[0;36mhist_series\u001B[0;34m(self, by, ax, grid, xlabelsize, xrot, ylabelsize, yrot, figsize, bins, legend, **kwds)\u001B[0m\n\u001B[1;32m    352\u001B[0m         \u001B[0;32mif\u001B[0m \u001B[0mlegend\u001B[0m\u001B[0;34m:\u001B[0m\u001B[0;34m\u001B[0m\u001B[0;34m\u001B[0m\u001B[0m\n\u001B[1;32m    353\u001B[0m             \u001B[0mkwds\u001B[0m\u001B[0;34m[\u001B[0m\u001B[0;34m\"label\"\u001B[0m\u001B[0;34m]\u001B[0m \u001B[0;34m=\u001B[0m \u001B[0mself\u001B[0m\u001B[0;34m.\u001B[0m\u001B[0mname\u001B[0m\u001B[0;34m\u001B[0m\u001B[0;34m\u001B[0m\u001B[0m\n\u001B[0;32m--> 354\u001B[0;31m         \u001B[0max\u001B[0m\u001B[0;34m.\u001B[0m\u001B[0mhist\u001B[0m\u001B[0;34m(\u001B[0m\u001B[0mvalues\u001B[0m\u001B[0;34m,\u001B[0m \u001B[0mbins\u001B[0m\u001B[0;34m=\u001B[0m\u001B[0mbins\u001B[0m\u001B[0;34m,\u001B[0m \u001B[0;34m**\u001B[0m\u001B[0mkwds\u001B[0m\u001B[0;34m)\u001B[0m\u001B[0;34m\u001B[0m\u001B[0;34m\u001B[0m\u001B[0m\n\u001B[0m\u001B[1;32m    355\u001B[0m         \u001B[0;32mif\u001B[0m \u001B[0mlegend\u001B[0m\u001B[0;34m:\u001B[0m\u001B[0;34m\u001B[0m\u001B[0;34m\u001B[0m\u001B[0m\n\u001B[1;32m    356\u001B[0m             \u001B[0max\u001B[0m\u001B[0;34m.\u001B[0m\u001B[0mlegend\u001B[0m\u001B[0;34m(\u001B[0m\u001B[0;34m)\u001B[0m\u001B[0;34m\u001B[0m\u001B[0;34m\u001B[0m\u001B[0m\n",
      "\u001B[0;32m~/Documents/mark_projects/皇家小虎/HJXH/hjxh_express_match/venv_py/lib/python3.8/site-packages/matplotlib/__init__.py\u001B[0m in \u001B[0;36minner\u001B[0;34m(ax, data, *args, **kwargs)\u001B[0m\n\u001B[1;32m   1410\u001B[0m     \u001B[0;32mdef\u001B[0m \u001B[0minner\u001B[0m\u001B[0;34m(\u001B[0m\u001B[0max\u001B[0m\u001B[0;34m,\u001B[0m \u001B[0;34m*\u001B[0m\u001B[0margs\u001B[0m\u001B[0;34m,\u001B[0m \u001B[0mdata\u001B[0m\u001B[0;34m=\u001B[0m\u001B[0;32mNone\u001B[0m\u001B[0;34m,\u001B[0m \u001B[0;34m**\u001B[0m\u001B[0mkwargs\u001B[0m\u001B[0;34m)\u001B[0m\u001B[0;34m:\u001B[0m\u001B[0;34m\u001B[0m\u001B[0;34m\u001B[0m\u001B[0m\n\u001B[1;32m   1411\u001B[0m         \u001B[0;32mif\u001B[0m \u001B[0mdata\u001B[0m \u001B[0;32mis\u001B[0m \u001B[0;32mNone\u001B[0m\u001B[0;34m:\u001B[0m\u001B[0;34m\u001B[0m\u001B[0;34m\u001B[0m\u001B[0m\n\u001B[0;32m-> 1412\u001B[0;31m             \u001B[0;32mreturn\u001B[0m \u001B[0mfunc\u001B[0m\u001B[0;34m(\u001B[0m\u001B[0max\u001B[0m\u001B[0;34m,\u001B[0m \u001B[0;34m*\u001B[0m\u001B[0mmap\u001B[0m\u001B[0;34m(\u001B[0m\u001B[0msanitize_sequence\u001B[0m\u001B[0;34m,\u001B[0m \u001B[0margs\u001B[0m\u001B[0;34m)\u001B[0m\u001B[0;34m,\u001B[0m \u001B[0;34m**\u001B[0m\u001B[0mkwargs\u001B[0m\u001B[0;34m)\u001B[0m\u001B[0;34m\u001B[0m\u001B[0;34m\u001B[0m\u001B[0m\n\u001B[0m\u001B[1;32m   1413\u001B[0m \u001B[0;34m\u001B[0m\u001B[0m\n\u001B[1;32m   1414\u001B[0m         \u001B[0mbound\u001B[0m \u001B[0;34m=\u001B[0m \u001B[0mnew_sig\u001B[0m\u001B[0;34m.\u001B[0m\u001B[0mbind\u001B[0m\u001B[0;34m(\u001B[0m\u001B[0max\u001B[0m\u001B[0;34m,\u001B[0m \u001B[0;34m*\u001B[0m\u001B[0margs\u001B[0m\u001B[0;34m,\u001B[0m \u001B[0;34m**\u001B[0m\u001B[0mkwargs\u001B[0m\u001B[0;34m)\u001B[0m\u001B[0;34m\u001B[0m\u001B[0;34m\u001B[0m\u001B[0m\n",
      "\u001B[0;32m~/Documents/mark_projects/皇家小虎/HJXH/hjxh_express_match/venv_py/lib/python3.8/site-packages/matplotlib/axes/_axes.py\u001B[0m in \u001B[0;36mhist\u001B[0;34m(self, x, bins, range, density, weights, cumulative, bottom, histtype, align, orientation, rwidth, log, color, label, stacked, **kwargs)\u001B[0m\n\u001B[1;32m   6789\u001B[0m             \u001B[0;32mif\u001B[0m \u001B[0mpatch\u001B[0m\u001B[0;34m:\u001B[0m\u001B[0;34m\u001B[0m\u001B[0;34m\u001B[0m\u001B[0m\n\u001B[1;32m   6790\u001B[0m                 \u001B[0mp\u001B[0m \u001B[0;34m=\u001B[0m \u001B[0mpatch\u001B[0m\u001B[0;34m[\u001B[0m\u001B[0;36m0\u001B[0m\u001B[0;34m]\u001B[0m\u001B[0;34m\u001B[0m\u001B[0;34m\u001B[0m\u001B[0m\n\u001B[0;32m-> 6791\u001B[0;31m                 \u001B[0mp\u001B[0m\u001B[0;34m.\u001B[0m\u001B[0mupdate\u001B[0m\u001B[0;34m(\u001B[0m\u001B[0mkwargs\u001B[0m\u001B[0;34m)\u001B[0m\u001B[0;34m\u001B[0m\u001B[0;34m\u001B[0m\u001B[0m\n\u001B[0m\u001B[1;32m   6792\u001B[0m                 \u001B[0;32mif\u001B[0m \u001B[0mlbl\u001B[0m \u001B[0;32mis\u001B[0m \u001B[0;32mnot\u001B[0m \u001B[0;32mNone\u001B[0m\u001B[0;34m:\u001B[0m\u001B[0;34m\u001B[0m\u001B[0;34m\u001B[0m\u001B[0m\n\u001B[1;32m   6793\u001B[0m                     \u001B[0mp\u001B[0m\u001B[0;34m.\u001B[0m\u001B[0mset_label\u001B[0m\u001B[0;34m(\u001B[0m\u001B[0mlbl\u001B[0m\u001B[0;34m)\u001B[0m\u001B[0;34m\u001B[0m\u001B[0;34m\u001B[0m\u001B[0m\n",
      "\u001B[0;32m~/Documents/mark_projects/皇家小虎/HJXH/hjxh_express_match/venv_py/lib/python3.8/site-packages/matplotlib/artist.py\u001B[0m in \u001B[0;36mupdate\u001B[0;34m(self, props)\u001B[0m\n\u001B[1;32m   1062\u001B[0m                     \u001B[0mfunc\u001B[0m \u001B[0;34m=\u001B[0m \u001B[0mgetattr\u001B[0m\u001B[0;34m(\u001B[0m\u001B[0mself\u001B[0m\u001B[0;34m,\u001B[0m \u001B[0;34mf\"set_{k}\"\u001B[0m\u001B[0;34m,\u001B[0m \u001B[0;32mNone\u001B[0m\u001B[0;34m)\u001B[0m\u001B[0;34m\u001B[0m\u001B[0;34m\u001B[0m\u001B[0m\n\u001B[1;32m   1063\u001B[0m                     \u001B[0;32mif\u001B[0m \u001B[0;32mnot\u001B[0m \u001B[0mcallable\u001B[0m\u001B[0;34m(\u001B[0m\u001B[0mfunc\u001B[0m\u001B[0;34m)\u001B[0m\u001B[0;34m:\u001B[0m\u001B[0;34m\u001B[0m\u001B[0;34m\u001B[0m\u001B[0m\n\u001B[0;32m-> 1064\u001B[0;31m                         raise AttributeError(f\"{type(self).__name__!r} object \"\n\u001B[0m\u001B[1;32m   1065\u001B[0m                                              f\"has no property {k!r}\")\n\u001B[1;32m   1066\u001B[0m                     \u001B[0mret\u001B[0m\u001B[0;34m.\u001B[0m\u001B[0mappend\u001B[0m\u001B[0;34m(\u001B[0m\u001B[0mfunc\u001B[0m\u001B[0;34m(\u001B[0m\u001B[0mv\u001B[0m\u001B[0;34m)\u001B[0m\u001B[0;34m)\u001B[0m\u001B[0;34m\u001B[0m\u001B[0;34m\u001B[0m\u001B[0m\n",
      "\u001B[0;31mAttributeError\u001B[0m: 'Rectangle' object has no property 'column'"
     ]
    },
    {
     "data": {
      "text/plain": "<Figure size 432x288 with 1 Axes>",
      "image/png": "[encoded data removed]"
     },
     "metadata": {
      "needs_background": "light"
     },
     "output_type": "display_data"
    }
   ],
   "source": [
    "data.weight_diff_pct.hist()"
   ],
   "metadata": {
    "collapsed": false,
    "pycharm": {
     "name": "#%%\n"
    }
   }
  },
  {
   "cell_type": "code",
   "execution_count": null,
   "outputs": [],
   "source": [],
   "metadata": {
    "collapsed": false,
    "pycharm": {
     "name": "#%%\n"
    }
   }
  }
 ],
 "metadata": {
  "kernelspec": {
   "name": "pycharm-95cc1011",
   "language": "python",
   "display_name": "PyCharm (hjxh_express_match)"
  },
  "language_info": {
   "codemirror_mode": {
    "name": "ipython",
    "version": 2
   },
   "file_extension": ".py",
   "mimetype": "text/x-python",
   "name": "python",
   "nbconvert_exporter": "python",
   "pygments_lexer": "ipython2",
   "version": "2.7.6"
  }
 },
 "nbformat": 4,
 "nbformat_minor": 0
}