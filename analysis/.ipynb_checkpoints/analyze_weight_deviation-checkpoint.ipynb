{
 "cells": [
  {
   "cell_type": "code",
   "execution_count": 1,
   "metadata": {},
   "outputs": [
    {
     "name": "stdout",
     "output_type": "stream",
     "text": [
      "hello\n"
     ]
    }
   ],
   "source": [
    "import pandas as pd\n",
    "import pymongo\n",
    "\n",
    "a = 1\n",
    "print(\"hello\")"
   ]
  },
  {
   "cell_type": "code",
   "execution_count": 2,
   "metadata": {
    "pycharm": {
     "name": "#%%\n"
    }
   },
   "outputs": [],
   "source": [
    "uri = pymongo.MongoClient()\n",
    "db = uri[\"hjxh_express_match\"]\n",
    "coll = db[\"detail\"]"
   ]
  },
  {
   "cell_type": "code",
   "execution_count": 9,
   "metadata": {
    "pycharm": {
     "name": "#%%\n"
    }
   },
   "outputs": [
    {
     "name": "stdout",
     "output_type": "stream",
     "text": [
      "(10000, 5)\n"
     ]
    },
    {
     "data": {
      "text/html": [
       "<div>\n",
       "<style scoped>\n",
       "    .dataframe tbody tr th:only-of-type {\n",
       "        vertical-align: middle;\n",
       "    }\n",
       "\n",
       "    .dataframe tbody tr th {\n",
       "        vertical-align: top;\n",
       "    }\n",
       "\n",
       "    .dataframe thead th {\n",
       "        text-align: right;\n",
       "    }\n",
       "</style>\n",
       "<table border=\"1\" class=\"dataframe\">\n",
       "  <thead>\n",
       "    <tr style=\"text-align: right;\">\n",
       "      <th></th>\n",
       "      <th>_id</th>\n",
       "      <th>file_name_trd</th>\n",
       "      <th>weight_trd</th>\n",
       "      <th>file_name_erp</th>\n",
       "      <th>weight_erp</th>\n",
       "      <th>weight_diff_pct</th>\n",
       "      <th>weight_qualified</th>\n",
       "    </tr>\n",
       "  </thead>\n",
       "  <tbody>\n",
       "    <tr>\n",
       "      <th>0</th>\n",
       "      <td>YT6051821481165</td>\n",
       "      <td>trd_2021-11_圆通.xlsx</td>\n",
       "      <td>3.71</td>\n",
       "      <td>erp_20211217_销售出库单_李佳欣_1.csv</td>\n",
       "      <td>3.620</td>\n",
       "      <td>0.024862</td>\n",
       "      <td>True</td>\n",
       "    </tr>\n",
       "    <tr>\n",
       "      <th>1</th>\n",
       "      <td>YT6056690304522</td>\n",
       "      <td>trd_2021-11_圆通.xlsx</td>\n",
       "      <td>3.72</td>\n",
       "      <td>erp_11月旺店通数据.csv</td>\n",
       "      <td>4.000</td>\n",
       "      <td>-0.070000</td>\n",
       "      <td>True</td>\n",
       "    </tr>\n",
       "    <tr>\n",
       "      <th>2</th>\n",
       "      <td>YT6056690316413</td>\n",
       "      <td>trd_2021-11_圆通.xlsx</td>\n",
       "      <td>3.72</td>\n",
       "      <td>erp_11月旺店通数据.csv</td>\n",
       "      <td>4.060</td>\n",
       "      <td>-0.083744</td>\n",
       "      <td>True</td>\n",
       "    </tr>\n",
       "    <tr>\n",
       "      <th>3</th>\n",
       "      <td>YT6056690316515</td>\n",
       "      <td>trd_2021-11_圆通.xlsx</td>\n",
       "      <td>3.72</td>\n",
       "      <td>erp_11月旺店通数据.csv</td>\n",
       "      <td>4.060</td>\n",
       "      <td>-0.083744</td>\n",
       "      <td>True</td>\n",
       "    </tr>\n",
       "    <tr>\n",
       "      <th>4</th>\n",
       "      <td>YT6056690316631</td>\n",
       "      <td>trd_2021-11_圆通.xlsx</td>\n",
       "      <td>3.72</td>\n",
       "      <td>erp_11月旺店通数据.csv</td>\n",
       "      <td>4.060</td>\n",
       "      <td>-0.083744</td>\n",
       "      <td>True</td>\n",
       "    </tr>\n",
       "    <tr>\n",
       "      <th>...</th>\n",
       "      <td>...</td>\n",
       "      <td>...</td>\n",
       "      <td>...</td>\n",
       "      <td>...</td>\n",
       "      <td>...</td>\n",
       "      <td>...</td>\n",
       "      <td>...</td>\n",
       "    </tr>\n",
       "    <tr>\n",
       "      <th>9995</th>\n",
       "      <td>YT6132602469100</td>\n",
       "      <td>trd_2021-11_圆通.xlsx</td>\n",
       "      <td>4.43</td>\n",
       "      <td>erp_20211214_销售出库单_李佳欣_7.csv</td>\n",
       "      <td>4.420</td>\n",
       "      <td>0.002262</td>\n",
       "      <td>True</td>\n",
       "    </tr>\n",
       "    <tr>\n",
       "      <th>9996</th>\n",
       "      <td>YT6134441213901</td>\n",
       "      <td>trd_2021-11_圆通.xlsx</td>\n",
       "      <td>4.43</td>\n",
       "      <td>erp_20211214_销售出库单_李佳欣_7.csv</td>\n",
       "      <td>4.062</td>\n",
       "      <td>0.090596</td>\n",
       "      <td>True</td>\n",
       "    </tr>\n",
       "    <tr>\n",
       "      <th>9997</th>\n",
       "      <td>YT9870815115168</td>\n",
       "      <td>trd_2021-11_圆通.xlsx</td>\n",
       "      <td>4.43</td>\n",
       "      <td>erp_20211214_销售出库单_李佳欣_7.csv</td>\n",
       "      <td>4.062</td>\n",
       "      <td>0.090596</td>\n",
       "      <td>True</td>\n",
       "    </tr>\n",
       "    <tr>\n",
       "      <th>9998</th>\n",
       "      <td>YT9872274827550</td>\n",
       "      <td>trd_2021-11_圆通.xlsx</td>\n",
       "      <td>4.43</td>\n",
       "      <td>erp_20211214_销售出库单_李佳欣_7.csv</td>\n",
       "      <td>4.063</td>\n",
       "      <td>0.090327</td>\n",
       "      <td>True</td>\n",
       "    </tr>\n",
       "    <tr>\n",
       "      <th>9999</th>\n",
       "      <td>YT6129975347072</td>\n",
       "      <td>trd_2021-11_圆通.xlsx</td>\n",
       "      <td>4.70</td>\n",
       "      <td>erp_20211214_销售出库单_李佳欣_6.csv</td>\n",
       "      <td>2.420</td>\n",
       "      <td>0.942149</td>\n",
       "      <td>False</td>\n",
       "    </tr>\n",
       "  </tbody>\n",
       "</table>\n",
       "<p>10000 rows × 7 columns</p>\n",
       "</div>"
      ],
      "text/plain": [
       "                  _id        file_name_trd  weight_trd  \\\n",
       "0     YT6051821481165  trd_2021-11_圆通.xlsx        3.71   \n",
       "1     YT6056690304522  trd_2021-11_圆通.xlsx        3.72   \n",
       "2     YT6056690316413  trd_2021-11_圆通.xlsx        3.72   \n",
       "3     YT6056690316515  trd_2021-11_圆通.xlsx        3.72   \n",
       "4     YT6056690316631  trd_2021-11_圆通.xlsx        3.72   \n",
       "...               ...                  ...         ...   \n",
       "9995  YT6132602469100  trd_2021-11_圆通.xlsx        4.43   \n",
       "9996  YT6134441213901  trd_2021-11_圆通.xlsx        4.43   \n",
       "9997  YT9870815115168  trd_2021-11_圆通.xlsx        4.43   \n",
       "9998  YT9872274827550  trd_2021-11_圆通.xlsx        4.43   \n",
       "9999  YT6129975347072  trd_2021-11_圆通.xlsx        4.70   \n",
       "\n",
       "                     file_name_erp  weight_erp  weight_diff_pct  \\\n",
       "0     erp_20211217_销售出库单_李佳欣_1.csv       3.620         0.024862   \n",
       "1                 erp_11月旺店通数据.csv       4.000        -0.070000   \n",
       "2                 erp_11月旺店通数据.csv       4.060        -0.083744   \n",
       "3                 erp_11月旺店通数据.csv       4.060        -0.083744   \n",
       "4                 erp_11月旺店通数据.csv       4.060        -0.083744   \n",
       "...                            ...         ...              ...   \n",
       "9995  erp_20211214_销售出库单_李佳欣_7.csv       4.420         0.002262   \n",
       "9996  erp_20211214_销售出库单_李佳欣_7.csv       4.062         0.090596   \n",
       "9997  erp_20211214_销售出库单_李佳欣_7.csv       4.062         0.090596   \n",
       "9998  erp_20211214_销售出库单_李佳欣_7.csv       4.063         0.090327   \n",
       "9999  erp_20211214_销售出库单_李佳欣_6.csv       2.420         0.942149   \n",
       "\n",
       "      weight_qualified  \n",
       "0                 True  \n",
       "1                 True  \n",
       "2                 True  \n",
       "3                 True  \n",
       "4                 True  \n",
       "...                ...  \n",
       "9995              True  \n",
       "9996              True  \n",
       "9997              True  \n",
       "9998              True  \n",
       "9999             False  \n",
       "\n",
       "[10000 rows x 7 columns]"
      ]
     },
     "execution_count": 9,
     "metadata": {},
     "output_type": "execute_result"
    }
   ],
   "source": [
    "N = 10000\n",
    "\n",
    "data = pd.DataFrame(\n",
    "    list(coll.find(\n",
    "        {\n",
    "            \"weight_erp\": {\"$exists\": True},\n",
    "            \"weight_trd\": {\"$exists\": True},\n",
    "        },\n",
    "        {\n",
    "            \"weight_erp\": 1,\n",
    "            \"weight_trd\": 1,\n",
    "            \"file_name_erp\": 1,\n",
    "            \"file_name_trd\": 1,\n",
    "        },\n",
    "        limit=N))\n",
    ")\n",
    "print(data.shape)\n",
    "\n",
    "\n",
    "data[\"weight_diff_pct\"] = data.weight_trd / data.weight_erp - 1\n",
    "\n",
    "data[\"weight_qualified\"] = data.weight_diff_pct < 0.1\n",
    "\n",
    "data"
   ]
  },
  {
   "cell_type": "code",
   "execution_count": null,
   "metadata": {},
   "outputs": [],
   "source": [
    "data.que"
   ]
  },
  {
   "cell_type": "code",
   "execution_count": 10,
   "metadata": {
    "pycharm": {
     "name": "#%%\n"
    }
   },
   "outputs": [
    {
     "data": {
      "text/plain": [
       "False"
      ]
     },
     "execution_count": 10,
     "metadata": {},
     "output_type": "execute_result"
    }
   ],
   "source": [
    "data.weight_qualified.all()"
   ]
  },
  {
   "cell_type": "code",
   "execution_count": 11,
   "metadata": {
    "pycharm": {
     "name": "#%%\n"
    }
   },
   "outputs": [
    {
     "data": {
      "text/plain": [
       "<AxesSubplot:>"
      ]
     },
     "execution_count": 11,
     "metadata": {},
     "output_type": "execute_result"
    },
    {
     "data": {
      "image/png": "[encoded data removed]",
      "text/plain": [
       "<Figure size 432x288 with 1 Axes>"
      ]
     },
     "metadata": {
      "needs_background": "light"
     },
     "output_type": "display_data"
    }
   ],
   "source": [
    "data.weight_diff_pct.hist(bins=50, )"
   ]
  },
  {
   "cell_type": "code",
   "execution_count": 8,
   "metadata": {
    "pycharm": {
     "name": "#%%\n"
    }
   },
   "outputs": [],
   "source": []
  }
 ],
 "metadata": {
  "kernelspec": {
   "display_name": "PyCharm (hjxh_express_match)",
   "language": "python",
   "name": "pycharm-95cc1011"
  },
  "language_info": {
   "codemirror_mode": {
    "name": "ipython",
    "version": 3
   },
   "file_extension": ".py",
   "mimetype": "text/x-python",
   "name": "python",
   "nbconvert_exporter": "python",
   "pygments_lexer": "ipython3",
   "version": "3.8.9"
  }
 },
 "nbformat": 4,
 "nbformat_minor": 1
}
