{
 "cells": [
  {
   "cell_type": "code",
   "execution_count": 1,
   "metadata": {},
   "outputs": [],
   "source": [
    "import pandas as pd"
   ]
  },
  {
   "cell_type": "code",
   "execution_count": 4,
   "metadata": {},
   "outputs": [],
   "source": [
    "df = pd.read_excel(\"../data/2021-11/trd/trd_2021-11_重庆长寿中通手抓饼.xlsx\", sheet_name=\"_明细_11月发货费明细\")\n"
   ]
  },
  {
   "cell_type": "code",
   "execution_count": 6,
   "metadata": {},
   "outputs": [
    {
     "data": {
      "text/html": [
       "<div>\n",
       "<style scoped>\n",
       "    .dataframe tbody tr th:only-of-type {\n",
       "        vertical-align: middle;\n",
       "    }\n",
       "\n",
       "    .dataframe tbody tr th {\n",
       "        vertical-align: top;\n",
       "    }\n",
       "\n",
       "    .dataframe thead th {\n",
       "        text-align: right;\n",
       "    }\n",
       "</style>\n",
       "<table border=\"1\" class=\"dataframe\">\n",
       "  <thead>\n",
       "    <tr style=\"text-align: right;\">\n",
       "      <th></th>\n",
       "      <th>运单号</th>\n",
       "      <th>_快递</th>\n",
       "      <th>账单日期</th>\n",
       "      <th>应收费用</th>\n",
       "      <th>结算重量</th>\n",
       "    </tr>\n",
       "  </thead>\n",
       "  <tbody>\n",
       "    <tr>\n",
       "      <th>0</th>\n",
       "      <td>7.823911e+13</td>\n",
       "      <td>重庆长寿中通快递手抓饼</td>\n",
       "      <td>2021-11-17</td>\n",
       "      <td>5.0</td>\n",
       "      <td>4.99</td>\n",
       "    </tr>\n",
       "    <tr>\n",
       "      <th>1</th>\n",
       "      <td>7.823911e+13</td>\n",
       "      <td>重庆长寿中通快递手抓饼</td>\n",
       "      <td>2021-11-17</td>\n",
       "      <td>5.0</td>\n",
       "      <td>4.96</td>\n",
       "    </tr>\n",
       "    <tr>\n",
       "      <th>2</th>\n",
       "      <td>7.550637e+13</td>\n",
       "      <td>重庆长寿中通快递手抓饼</td>\n",
       "      <td>2021-11-05</td>\n",
       "      <td>5.0</td>\n",
       "      <td>4.95</td>\n",
       "    </tr>\n",
       "    <tr>\n",
       "      <th>3</th>\n",
       "      <td>7.550724e+13</td>\n",
       "      <td>重庆长寿中通快递手抓饼</td>\n",
       "      <td>2021-11-15</td>\n",
       "      <td>5.0</td>\n",
       "      <td>4.94</td>\n",
       "    </tr>\n",
       "    <tr>\n",
       "      <th>4</th>\n",
       "      <td>7.823921e+13</td>\n",
       "      <td>重庆长寿中通快递手抓饼</td>\n",
       "      <td>2021-11-18</td>\n",
       "      <td>5.0</td>\n",
       "      <td>4.92</td>\n",
       "    </tr>\n",
       "    <tr>\n",
       "      <th>...</th>\n",
       "      <td>...</td>\n",
       "      <td>...</td>\n",
       "      <td>...</td>\n",
       "      <td>...</td>\n",
       "      <td>...</td>\n",
       "    </tr>\n",
       "    <tr>\n",
       "      <th>66579</th>\n",
       "      <td>NaN</td>\n",
       "      <td>NaN</td>\n",
       "      <td>NaN</td>\n",
       "      <td>NaN</td>\n",
       "      <td>NaN</td>\n",
       "    </tr>\n",
       "    <tr>\n",
       "      <th>66580</th>\n",
       "      <td>NaN</td>\n",
       "      <td>NaN</td>\n",
       "      <td>NaN</td>\n",
       "      <td>NaN</td>\n",
       "      <td>NaN</td>\n",
       "    </tr>\n",
       "    <tr>\n",
       "      <th>66581</th>\n",
       "      <td>NaN</td>\n",
       "      <td>NaN</td>\n",
       "      <td>NaN</td>\n",
       "      <td>NaN</td>\n",
       "      <td>NaN</td>\n",
       "    </tr>\n",
       "    <tr>\n",
       "      <th>66582</th>\n",
       "      <td>NaN</td>\n",
       "      <td>NaN</td>\n",
       "      <td>NaN</td>\n",
       "      <td>NaN</td>\n",
       "      <td>NaN</td>\n",
       "    </tr>\n",
       "    <tr>\n",
       "      <th>66583</th>\n",
       "      <td>NaN</td>\n",
       "      <td>NaN</td>\n",
       "      <td>NaN</td>\n",
       "      <td>NaN</td>\n",
       "      <td>NaN</td>\n",
       "    </tr>\n",
       "  </tbody>\n",
       "</table>\n",
       "<p>66584 rows × 5 columns</p>\n",
       "</div>"
      ],
      "text/plain": [
       "                运单号          _快递        账单日期  应收费用  结算重量\n",
       "0      7.823911e+13  重庆长寿中通快递手抓饼  2021-11-17   5.0  4.99\n",
       "1      7.823911e+13  重庆长寿中通快递手抓饼  2021-11-17   5.0  4.96\n",
       "2      7.550637e+13  重庆长寿中通快递手抓饼  2021-11-05   5.0  4.95\n",
       "3      7.550724e+13  重庆长寿中通快递手抓饼  2021-11-15   5.0  4.94\n",
       "4      7.823921e+13  重庆长寿中通快递手抓饼  2021-11-18   5.0  4.92\n",
       "...             ...          ...         ...   ...   ...\n",
       "66579           NaN          NaN         NaN   NaN   NaN\n",
       "66580           NaN          NaN         NaN   NaN   NaN\n",
       "66581           NaN          NaN         NaN   NaN   NaN\n",
       "66582           NaN          NaN         NaN   NaN   NaN\n",
       "66583           NaN          NaN         NaN   NaN   NaN\n",
       "\n",
       "[66584 rows x 5 columns]"
      ]
     },
     "execution_count": 6,
     "metadata": {},
     "output_type": "execute_result"
    }
   ],
   "source": [
    "df = df[['运单号', '_快递', '账单日期', '应收费用', '结算重量']]\n",
    "df"
   ]
  },
  {
   "cell_type": "code",
   "execution_count": 7,
   "metadata": {},
   "outputs": [
    {
     "data": {
      "text/html": [
       "<div>\n",
       "<style scoped>\n",
       "    .dataframe tbody tr th:only-of-type {\n",
       "        vertical-align: middle;\n",
       "    }\n",
       "\n",
       "    .dataframe tbody tr th {\n",
       "        vertical-align: top;\n",
       "    }\n",
       "\n",
       "    .dataframe thead th {\n",
       "        text-align: right;\n",
       "    }\n",
       "</style>\n",
       "<table border=\"1\" class=\"dataframe\">\n",
       "  <thead>\n",
       "    <tr style=\"text-align: right;\">\n",
       "      <th></th>\n",
       "      <th>运单号</th>\n",
       "      <th>_快递</th>\n",
       "      <th>账单日期</th>\n",
       "      <th>应收费用</th>\n",
       "      <th>结算重量</th>\n",
       "    </tr>\n",
       "  </thead>\n",
       "  <tbody>\n",
       "    <tr>\n",
       "      <th>0</th>\n",
       "      <td>7.823911e+13</td>\n",
       "      <td>重庆长寿中通快递手抓饼</td>\n",
       "      <td>2021-11-17</td>\n",
       "      <td>5.0</td>\n",
       "      <td>4.99</td>\n",
       "    </tr>\n",
       "    <tr>\n",
       "      <th>1</th>\n",
       "      <td>7.823911e+13</td>\n",
       "      <td>重庆长寿中通快递手抓饼</td>\n",
       "      <td>2021-11-17</td>\n",
       "      <td>5.0</td>\n",
       "      <td>4.96</td>\n",
       "    </tr>\n",
       "    <tr>\n",
       "      <th>2</th>\n",
       "      <td>7.550637e+13</td>\n",
       "      <td>重庆长寿中通快递手抓饼</td>\n",
       "      <td>2021-11-05</td>\n",
       "      <td>5.0</td>\n",
       "      <td>4.95</td>\n",
       "    </tr>\n",
       "    <tr>\n",
       "      <th>3</th>\n",
       "      <td>7.550724e+13</td>\n",
       "      <td>重庆长寿中通快递手抓饼</td>\n",
       "      <td>2021-11-15</td>\n",
       "      <td>5.0</td>\n",
       "      <td>4.94</td>\n",
       "    </tr>\n",
       "    <tr>\n",
       "      <th>4</th>\n",
       "      <td>7.823921e+13</td>\n",
       "      <td>重庆长寿中通快递手抓饼</td>\n",
       "      <td>2021-11-18</td>\n",
       "      <td>5.0</td>\n",
       "      <td>4.92</td>\n",
       "    </tr>\n",
       "    <tr>\n",
       "      <th>...</th>\n",
       "      <td>...</td>\n",
       "      <td>...</td>\n",
       "      <td>...</td>\n",
       "      <td>...</td>\n",
       "      <td>...</td>\n",
       "    </tr>\n",
       "    <tr>\n",
       "      <th>66570</th>\n",
       "      <td>7.823792e+13</td>\n",
       "      <td>重庆长寿中通快递手抓饼</td>\n",
       "      <td>2021-11-11</td>\n",
       "      <td>2.8</td>\n",
       "      <td>0.90</td>\n",
       "    </tr>\n",
       "    <tr>\n",
       "      <th>66571</th>\n",
       "      <td>7.823792e+13</td>\n",
       "      <td>重庆长寿中通快递手抓饼</td>\n",
       "      <td>2021-11-11</td>\n",
       "      <td>2.8</td>\n",
       "      <td>0.90</td>\n",
       "    </tr>\n",
       "    <tr>\n",
       "      <th>66572</th>\n",
       "      <td>7.823792e+13</td>\n",
       "      <td>重庆长寿中通快递手抓饼</td>\n",
       "      <td>2021-11-11</td>\n",
       "      <td>2.8</td>\n",
       "      <td>0.90</td>\n",
       "    </tr>\n",
       "    <tr>\n",
       "      <th>66573</th>\n",
       "      <td>7.823792e+13</td>\n",
       "      <td>重庆长寿中通快递手抓饼</td>\n",
       "      <td>2021-11-11</td>\n",
       "      <td>2.8</td>\n",
       "      <td>0.90</td>\n",
       "    </tr>\n",
       "    <tr>\n",
       "      <th>66574</th>\n",
       "      <td>7.823792e+13</td>\n",
       "      <td>重庆长寿中通快递手抓饼</td>\n",
       "      <td>2021-11-11</td>\n",
       "      <td>2.8</td>\n",
       "      <td>0.90</td>\n",
       "    </tr>\n",
       "  </tbody>\n",
       "</table>\n",
       "<p>66575 rows × 5 columns</p>\n",
       "</div>"
      ],
      "text/plain": [
       "                运单号          _快递        账单日期  应收费用  结算重量\n",
       "0      7.823911e+13  重庆长寿中通快递手抓饼  2021-11-17   5.0  4.99\n",
       "1      7.823911e+13  重庆长寿中通快递手抓饼  2021-11-17   5.0  4.96\n",
       "2      7.550637e+13  重庆长寿中通快递手抓饼  2021-11-05   5.0  4.95\n",
       "3      7.550724e+13  重庆长寿中通快递手抓饼  2021-11-15   5.0  4.94\n",
       "4      7.823921e+13  重庆长寿中通快递手抓饼  2021-11-18   5.0  4.92\n",
       "...             ...          ...         ...   ...   ...\n",
       "66570  7.823792e+13  重庆长寿中通快递手抓饼  2021-11-11   2.8  0.90\n",
       "66571  7.823792e+13  重庆长寿中通快递手抓饼  2021-11-11   2.8  0.90\n",
       "66572  7.823792e+13  重庆长寿中通快递手抓饼  2021-11-11   2.8  0.90\n",
       "66573  7.823792e+13  重庆长寿中通快递手抓饼  2021-11-11   2.8  0.90\n",
       "66574  7.823792e+13  重庆长寿中通快递手抓饼  2021-11-11   2.8  0.90\n",
       "\n",
       "[66575 rows x 5 columns]"
      ]
     },
     "execution_count": 7,
     "metadata": {},
     "output_type": "execute_result"
    }
   ],
   "source": [
    "df2 = df.dropna()\n",
    "df2"
   ]
  },
  {
   "cell_type": "code",
   "execution_count": 13,
   "metadata": {},
   "outputs": [],
   "source": [
    "s = df2.运单号"
   ]
  },
  {
   "cell_type": "code",
   "execution_count": 19,
   "metadata": {},
   "outputs": [
    {
     "data": {
      "text/plain": [
       "Series([], Name: 运单号, dtype: float64)"
      ]
     },
     "execution_count": 19,
     "metadata": {},
     "output_type": "execute_result"
    }
   ],
   "source": [
    "s[s.duplicated()]"
   ]
  },
  {
   "cell_type": "code",
   "execution_count": 21,
   "metadata": {},
   "outputs": [
    {
     "data": {
      "text/plain": [
       "True"
      ]
     },
     "execution_count": 21,
     "metadata": {},
     "output_type": "execute_result"
    }
   ],
   "source": [
    "s.is_unique"
   ]
  },
  {
   "cell_type": "code",
   "execution_count": 24,
   "metadata": {},
   "outputs": [
    {
     "data": {
      "text/plain": [
       "[78239114372685.0,\n",
       " 78239114414216.0,\n",
       " 75506366674355.0,\n",
       " 75507242267026.0,\n",
       " 78239212742384.0]"
      ]
     },
     "execution_count": 24,
     "metadata": {},
     "output_type": "execute_result"
    }
   ],
   "source": [
    "s.head().to_list()"
   ]
  },
  {
   "cell_type": "code",
   "execution_count": null,
   "metadata": {},
   "outputs": [],
   "source": []
  }
 ],
 "metadata": {
  "interpreter": {
   "hash": "3067ead486e059ec00ffe7555bdb889e6e264a24dc711bf108106cc7baee8d5d"
  },
  "kernelspec": {
   "display_name": "Python 3.8.8 64-bit ('base': conda)",
   "language": "python",
   "name": "python3"
  },
  "language_info": {
   "codemirror_mode": {
    "name": "ipython",
    "version": 3
   },
   "file_extension": ".py",
   "mimetype": "text/x-python",
   "name": "python",
   "nbconvert_exporter": "python",
   "pygments_lexer": "ipython3",
   "version": "3.8.8"
  },
  "orig_nbformat": 4
 },
 "nbformat": 4,
 "nbformat_minor": 2
}
