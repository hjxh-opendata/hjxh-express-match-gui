{
 "cells": [
  {
   "cell_type": "code",
   "execution_count": 1,
   "metadata": {},
   "outputs": [],
   "source": [
    "import pymongo"
   ]
  },
  {
   "cell_type": "code",
   "execution_count": 2,
   "metadata": {},
   "outputs": [],
   "source": [
    "uri = pymongo.MongoClient()\n",
    "db = uri[\"hjxh_express_match\"]\n",
    "coll = db[\"TRD_2021-11\"]"
   ]
  },
  {
   "cell_type": "code",
   "execution_count": 20,
   "metadata": {},
   "outputs": [],
   "source": [
    "d = list(coll.aggregate([\n",
    "    {\n",
    "        \"$group\": {\n",
    "            \"_id\": \"$_快递\",\n",
    "            \"cnt\": {\"$sum\": 1}\n",
    "        }\n",
    "    }\n",
    "]))"
   ]
  },
  {
   "cell_type": "code",
   "execution_count": 25,
   "metadata": {},
   "outputs": [
    {
     "data": {
      "text/plain": [
       "[{'_id': '漯河极兔', 'cnt': 432564},\n",
       " {'_id': '常州极兔', 'cnt': 362790},\n",
       " {'_id': '常州韵达', 'cnt': 351932},\n",
       " {'_id': '江苏极兔雅巢手抓饼', 'cnt': 137427},\n",
       " {'_id': '漯河韵达', 'cnt': 114703},\n",
       " {'_id': '东莞极兔', 'cnt': 104312},\n",
       " {'_id': '沈阳极兔', 'cnt': 99812},\n",
       " {'_id': '极兔', 'cnt': 66860},\n",
       " {'_id': '山东极兔', 'cnt': 60499},\n",
       " {'_id': '武汉中通', 'cnt': 56138},\n",
       " {'_id': '中通', 'cnt': 48762},\n",
       " {'_id': '美粮坊山东曹县中通', 'cnt': 16546},\n",
       " {'_id': '圆通', 'cnt': 15165},\n",
       " {'_id': '高埗中通', 'cnt': 13007},\n",
       " {'_id': '常州顺丰', 'cnt': 6631},\n",
       " {'_id': '荆州中通', 'cnt': 24}]"
      ]
     },
     "execution_count": 25,
     "metadata": {},
     "output_type": "execute_result"
    }
   ],
   "source": [
    "sorted(d, key=lambda x: -x['cnt'])"
   ]
  },
  {
   "cell_type": "code",
   "execution_count": 26,
   "metadata": {},
   "outputs": [],
   "source": [
    "import os\n",
    "trd_dir = \"../data/2021-11/trd\""
   ]
  },
  {
   "cell_type": "code",
   "execution_count": 31,
   "metadata": {},
   "outputs": [
    {
     "data": {
      "text/plain": [
       "[{'file': 'trd_2021-11_常州韵达_无价格表.xlsx', 'size': 89.7},\n",
       " {'file': 'trd_2021-11_漯河极兔.xlsx', 'size': 53.4},\n",
       " {'file': 'trd_2021-11_常州极兔.xlsx', 'size': 28.2},\n",
       " {'file': 'trd_2021-11_沈阳极兔.xlsx', 'size': 23.2},\n",
       " {'file': 'trd_2021-11-沈阳圆通.xlsx', 'size': 14.1},\n",
       " {'file': 'trd_2021-11_漯河韵达.xlsx', 'size': 13.6},\n",
       " {'file': 'trd_2021-11_山东中通_无价格表.xls', 'size': 13.1},\n",
       " {'file': 'trd_2021-11_江苏极兔亚巢手抓饼.xlsx', 'size': 12.5},\n",
       " {'file': 'trd_2021-11_极兔.xlsx', 'size': 11.5},\n",
       " {'file': 'trd_2021-11_东莞极兔.xlsx', 'size': 11.0},\n",
       " {'file': 'trd_2021-11_武汉中通_无价格表.xlsx', 'size': 9.5},\n",
       " {'file': 'trd_2021-11_重庆长寿中通手抓饼.xlsx', 'size': 7.9},\n",
       " {'file': 'trd_2022-11_铁岭昌图中通.xlsx', 'size': 7.8},\n",
       " {'file': 'trd_2021-11_荆州中通_无价格表.xlsx', 'size': 6.7},\n",
       " {'file': 'trd_2021-11_山东极兔_无价格表.xlsx', 'size': 5.8},\n",
       " {'file': 'trd_2021-11_中通.xlsx', 'size': 4.8},\n",
       " {'file': 'trd_2021-11_广东中通.xlsx', 'size': 4.0},\n",
       " {'file': 'trd_2021-11_常州顺丰.xlsx', 'size': 1.5},\n",
       " {'file': 'trd_2021-11_圆通.xlsx', 'size': 1.5},\n",
       " {'file': 'trd_2021-11_美粮坊山东曹县中通_无价格表.xlsx', 'size': 0.9}]"
      ]
     },
     "execution_count": 31,
     "metadata": {},
     "output_type": "execute_result"
    }
   ],
   "source": [
    "items = []\n",
    "for file in os.listdir(trd_dir):\n",
    "    if not file.startswith(\".\"):\n",
    "        file_path = os.path.join(trd_dir, file)\n",
    "        items.append({\"file\": file, \"size\": round(os.stat(file_path).st_size / 1024 / 1024,1)})\n",
    "items = sorted(items, key = lambda x: -x[\"size\"])\n",
    "items"
   ]
  },
  {
   "cell_type": "code",
   "execution_count": null,
   "metadata": {},
   "outputs": [],
   "source": []
  }
 ],
 "metadata": {
  "interpreter": {
   "hash": "3067ead486e059ec00ffe7555bdb889e6e264a24dc711bf108106cc7baee8d5d"
  },
  "kernelspec": {
   "display_name": "Python 3.8.8 64-bit ('base': conda)",
   "language": "python",
   "name": "python3"
  },
  "language_info": {
   "codemirror_mode": {
    "name": "ipython",
    "version": 3
   },
   "file_extension": ".py",
   "mimetype": "text/x-python",
   "name": "python",
   "nbconvert_exporter": "python",
   "pygments_lexer": "ipython3",
   "version": "3.8.8"
  },
  "orig_nbformat": 4
 },
 "nbformat": 4,
 "nbformat_minor": 2
}
