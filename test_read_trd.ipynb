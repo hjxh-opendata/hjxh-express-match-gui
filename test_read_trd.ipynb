{
 "cells": [
  {
   "cell_type": "code",
   "execution_count": 7,
   "metadata": {},
   "outputs": [],
   "source": [
    "trd_fp = 'data/第三方数据/11月第三方仓韵达.xlsx'\n",
    "tdf_sample_fp = trd_fp.replace(\".xlsx\", \"_sample.xlsx\")\n",
    "sheet_name = \"订单明细wms\""
   ]
  },
  {
   "cell_type": "code",
   "execution_count": 2,
   "metadata": {},
   "outputs": [],
   "source": [
    "import pandas as pd"
   ]
  },
  {
   "cell_type": "code",
   "execution_count": 6,
   "metadata": {},
   "outputs": [],
   "source": [
    "df = pd.read_excel(trd_fp, sheet_name=sheet_name)"
   ]
  },
  {
   "cell_type": "code",
   "execution_count": 9,
   "metadata": {},
   "outputs": [],
   "source": [
    "df.head(100).to_excel(tdf_sample_fp, sheet_name=sheet_name)"
   ]
  },
  {
   "cell_type": "code",
   "execution_count": 14,
   "metadata": {},
   "outputs": [],
   "source": [
    "dfh = df.head()"
   ]
  },
  {
   "cell_type": "code",
   "execution_count": 13,
   "metadata": {},
   "outputs": [
    {
     "data": {
      "text/html": [
       "<div>\n",
       "<style scoped>\n",
       "    .dataframe tbody tr th:only-of-type {\n",
       "        vertical-align: middle;\n",
       "    }\n",
       "\n",
       "    .dataframe tbody tr th {\n",
       "        vertical-align: top;\n",
       "    }\n",
       "\n",
       "    .dataframe thead th {\n",
       "        text-align: right;\n",
       "    }\n",
       "</style>\n",
       "<table border=\"1\" class=\"dataframe\">\n",
       "  <thead>\n",
       "    <tr style=\"text-align: right;\">\n",
       "      <th></th>\n",
       "      <th>发货订单号</th>\n",
       "      <th>快递公司</th>\n",
       "      <th>快递单号</th>\n",
       "      <th>所属快递</th>\n",
       "      <th>省份</th>\n",
       "      <th>订单商品总数</th>\n",
       "      <th>订单商品种类数</th>\n",
       "      <th>账单重量</th>\n",
       "      <th>发货时间</th>\n",
       "      <th>快递费</th>\n",
       "      <th>涨价金额</th>\n",
       "    </tr>\n",
       "  </thead>\n",
       "  <tbody>\n",
       "    <tr>\n",
       "      <th>0</th>\n",
       "      <td>DO202111070000047874</td>\n",
       "      <td>长沙菜鸟韵达</td>\n",
       "      <td>432169686442736</td>\n",
       "      <td>韵达快递</td>\n",
       "      <td>江西省</td>\n",
       "      <td>1</td>\n",
       "      <td>1</td>\n",
       "      <td>0.900</td>\n",
       "      <td>2021-11-07</td>\n",
       "      <td>2.6</td>\n",
       "      <td>0.3</td>\n",
       "    </tr>\n",
       "    <tr>\n",
       "      <th>1</th>\n",
       "      <td>DO202111070000047873</td>\n",
       "      <td>长沙菜鸟韵达</td>\n",
       "      <td>432169686442646</td>\n",
       "      <td>韵达快递</td>\n",
       "      <td>广东省</td>\n",
       "      <td>1</td>\n",
       "      <td>1</td>\n",
       "      <td>0.900</td>\n",
       "      <td>2021-11-07</td>\n",
       "      <td>2.6</td>\n",
       "      <td>0.3</td>\n",
       "    </tr>\n",
       "    <tr>\n",
       "      <th>2</th>\n",
       "      <td>DO202111070000045970</td>\n",
       "      <td>长沙拼多多韵达</td>\n",
       "      <td>462082444765915</td>\n",
       "      <td>韵达快递</td>\n",
       "      <td>广东省</td>\n",
       "      <td>2</td>\n",
       "      <td>1</td>\n",
       "      <td>1.958</td>\n",
       "      <td>2021-11-07</td>\n",
       "      <td>3.2</td>\n",
       "      <td>0.3</td>\n",
       "    </tr>\n",
       "    <tr>\n",
       "      <th>3</th>\n",
       "      <td>DO202111070000045968</td>\n",
       "      <td>长沙菜鸟韵达</td>\n",
       "      <td>432169644541652</td>\n",
       "      <td>韵达快递</td>\n",
       "      <td>广东省</td>\n",
       "      <td>2</td>\n",
       "      <td>1</td>\n",
       "      <td>2.000</td>\n",
       "      <td>2021-11-07</td>\n",
       "      <td>3.2</td>\n",
       "      <td>0.3</td>\n",
       "    </tr>\n",
       "    <tr>\n",
       "      <th>4</th>\n",
       "      <td>DO202111070000045967</td>\n",
       "      <td>长沙抖音韵达</td>\n",
       "      <td>3180399197731</td>\n",
       "      <td>韵达快递</td>\n",
       "      <td>江西省</td>\n",
       "      <td>2</td>\n",
       "      <td>1</td>\n",
       "      <td>2.000</td>\n",
       "      <td>2021-11-07</td>\n",
       "      <td>3.2</td>\n",
       "      <td>0.3</td>\n",
       "    </tr>\n",
       "  </tbody>\n",
       "</table>\n",
       "</div>"
      ],
      "text/plain": [
       "                  发货订单号     快递公司             快递单号  所属快递   省份  订单商品总数  订单商品种类数  \\\n",
       "0  DO202111070000047874   长沙菜鸟韵达  432169686442736  韵达快递  江西省       1        1   \n",
       "1  DO202111070000047873   长沙菜鸟韵达  432169686442646  韵达快递  广东省       1        1   \n",
       "2  DO202111070000045970  长沙拼多多韵达  462082444765915  韵达快递  广东省       2        1   \n",
       "3  DO202111070000045968   长沙菜鸟韵达  432169644541652  韵达快递  广东省       2        1   \n",
       "4  DO202111070000045967   长沙抖音韵达    3180399197731  韵达快递  江西省       2        1   \n",
       "\n",
       "    账单重量       发货时间  快递费  涨价金额  \n",
       "0  0.900 2021-11-07  2.6   0.3  \n",
       "1  0.900 2021-11-07  2.6   0.3  \n",
       "2  1.958 2021-11-07  3.2   0.3  \n",
       "3  2.000 2021-11-07  3.2   0.3  \n",
       "4  2.000 2021-11-07  3.2   0.3  "
      ]
     },
     "execution_count": 13,
     "metadata": {},
     "output_type": "execute_result"
    }
   ],
   "source": [
    "df.head()[['发货订单号', '快递公司', '快递单号', '所属快递', '省份', '订单商品总数', '订单商品种类数', '账单重量', '发货时间', '快递费', '涨价金额']]"
   ]
  },
  {
   "cell_type": "code",
   "execution_count": 15,
   "metadata": {},
   "outputs": [],
   "source": [
    "s = dfh.快递单号"
   ]
  },
  {
   "cell_type": "code",
   "execution_count": 21,
   "metadata": {},
   "outputs": [
    {
     "data": {
      "text/plain": [
       "0    s1\n",
       "1    s1\n",
       "2    s1\n",
       "3    s1\n",
       "4    s1\n",
       "Name: 快递单号, dtype: object"
      ]
     },
     "execution_count": 21,
     "metadata": {},
     "output_type": "execute_result"
    }
   ],
   "source": [
    "\"s\" + s.str.extract(\"(1)\", expand=False)"
   ]
  },
  {
   "cell_type": "code",
   "execution_count": null,
   "metadata": {},
   "outputs": [],
   "source": []
  }
 ],
 "metadata": {
  "interpreter": {
   "hash": "3067ead486e059ec00ffe7555bdb889e6e264a24dc711bf108106cc7baee8d5d"
  },
  "kernelspec": {
   "display_name": "Python 3.8.8 64-bit ('base': conda)",
   "language": "python",
   "name": "python3"
  },
  "language_info": {
   "codemirror_mode": {
    "name": "ipython",
    "version": 3
   },
   "file_extension": ".py",
   "mimetype": "text/x-python",
   "name": "python",
   "nbconvert_exporter": "python",
   "pygments_lexer": "ipython3",
   "version": "3.8.8"
  },
  "orig_nbformat": 4
 },
 "nbformat": 4,
 "nbformat_minor": 2
}
